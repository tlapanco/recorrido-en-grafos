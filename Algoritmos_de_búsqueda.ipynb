{
  "cells": [
    {
      "cell_type": "markdown",
      "metadata": {
        "id": "view-in-github",
        "colab_type": "text"
      },
      "source": [
        "<a href=\"https://colab.research.google.com/github/tlapanco/recorrido-en-grafos/blob/main/Algoritmos_de_b%C3%BAsqueda.ipynb\" target=\"_parent\"><img src=\"https://colab.research.google.com/assets/colab-badge.svg\" alt=\"Open In Colab\"/></a>"
      ]
    },
    {
      "cell_type": "markdown",
      "id": "af512600",
      "metadata": {
        "id": "af512600"
      },
      "source": [
        "# Sistemas inteligentes\n",
        "**Alumno:** Tlapanco **2019XXXXXX**"
      ]
    },
    {
      "cell_type": "markdown",
      "id": "c579f524",
      "metadata": {
        "id": "c579f524"
      },
      "source": [
        "## Grafo\n",
        "**Tipo:** No dirigido\n",
        "\n",
        "**Número total de nodos:** 9\n",
        "\n",
        "**Nodos:** A, B, C, D, E, F, G, H, I\n"
      ]
    },
    {
      "cell_type": "code",
      "execution_count": 1,
      "id": "e6548ea1",
      "metadata": {
        "colab": {
          "base_uri": "https://localhost:8080/",
          "height": 260
        },
        "id": "e6548ea1",
        "outputId": "c2b8003a-1e4d-4925-aaea-42fe5b9c17c1"
      },
      "outputs": [
        {
          "output_type": "stream",
          "name": "stdout",
          "text": [
            "Grafo: \n"
          ]
        },
        {
          "output_type": "display_data",
          "data": {
            "image/png": "[encoded data removed]",
            "text/plain": [
              "<IPython.core.display.Image object>"
            ]
          },
          "metadata": {
            "image/png": {
              "width": 500
            }
          }
        }
      ],
      "source": [
        "#Grafo a usar\n",
        "from IPython.display import Image, display\n",
        "print('Grafo: ')\n",
        "display(Image('Grafo.png', width=500))"
      ]
    },
    {
      "cell_type": "code",
      "execution_count": 2,
      "id": "f0fefd75",
      "metadata": {
        "id": "f0fefd75"
      },
      "outputs": [],
      "source": [
        "#Lista de adyacencia de nuestro grafo, almacenada en un diccionario\n",
        "lista_adyacencia ={\n",
        "    \"A\": [\"B\", \"I\"],\n",
        "    \"B\": [\"A\", \"F\"],\n",
        "    \"C\": [\"D\", \"G\", \"H\"],\n",
        "    \"D\": [\"C\"],\n",
        "    \"E\": [\"F\", \"I\"],\n",
        "    \"F\": [\"B\", \"E\", \"G\", \"I\"],\n",
        "    \"G\": [\"C\", \"F\", \"H\"],\n",
        "    \"H\": [\"C\", \"G\"],\n",
        "    \"I\": [\"A\", \"E\", \"F\"]\n",
        "}"
      ]
    },
    {
      "cell_type": "markdown",
      "id": "7d2cf777",
      "metadata": {
        "id": "7d2cf777"
      },
      "source": [
        "## Recorrido en anchura"
      ]
    },
    {
      "cell_type": "markdown",
      "id": "0a9ba748",
      "metadata": {
        "id": "0a9ba748"
      },
      "source": [
        "1. Creación de diccionario donde se guardaran los estados de nuestro recorrido en anchura, el cual es creado a partir de nuestra lista de adyacencia y una lista que contendra el recorrido en anchura de nuestro grafo"
      ]
    },
    {
      "cell_type": "code",
      "execution_count": 3,
      "id": "d4c1d08c",
      "metadata": {
        "id": "d4c1d08c"
      },
      "outputs": [],
      "source": [
        "recorrido ={}\n",
        "for k in lista_adyacencia.keys():\n",
        "    recorrido[k]= {\"Visitado\": \"NO\", \"Nivel\": -1, \"Padre\": None}"
      ]
    },
    {
      "cell_type": "code",
      "execution_count": 4,
      "id": "c327a303",
      "metadata": {
        "id": "c327a303"
      },
      "outputs": [],
      "source": [
        "#Lista que contendra el recorrido en anchura de nuestro grafo\n",
        "recorrido_anchura = []"
      ]
    },
    {
      "cell_type": "markdown",
      "id": "c3dd361a",
      "metadata": {
        "id": "c3dd361a"
      },
      "source": [
        "2. Estado de nuestro diccionario antes de iniciar el recorrido:\n",
        "Se creo un nuevo diccionario por cada clave del diccionario de lista de adyacencia, que en este caso son los nodos de nuestro grafo\n",
        "\n",
        "> Cada diccionario cuenta con:\n",
        "\n",
        "- Clave **\"Visitado\"**, la cual tiene como valor **\"NO\"** Se inicializa de esta manera, ya que al ser visitado en el recorrido, cambiara su valor a **\"SI\"** y no sera visitado nuevamente\n",
        "\n",
        "- Clave **\"Nivel\"**,  este contiene el valor **-1**, el cual se actualizara constantemente por cada nodo visitado en nuestro recorrido, el nodo raíz incrementara a **0**, el cual sera el punto de partida del recorrido, sus vencinos tomaran el valor de **1** ya que se encuentran en el primer nivel a partir del nodo raíz y los vecinos del nivel uno, incrementaran su valor a **2** y asi constantemente hasta terminar de recorrer nuestro grafo\n",
        "\n",
        "- Clave **\"Padre\"**, contiene un valor por defecto **None**, el cual, durante el recorrido sera reemplazado por el nodo que se encuentra directamente en el nivel anterior, del cual tomara su nivel para el calculo del mismo\n"
      ]
    },
    {
      "cell_type": "code",
      "execution_count": 5,
      "id": "f79095e5",
      "metadata": {
        "colab": {
          "base_uri": "https://localhost:8080/"
        },
        "id": "f79095e5",
        "outputId": "8a073da1-39a1-4126-b61f-41ba9065f06c"
      },
      "outputs": [
        {
          "output_type": "execute_result",
          "data": {
            "text/plain": [
              "{'A': {'Visitado': 'NO', 'Nivel': -1, 'Padre': None},\n",
              " 'B': {'Visitado': 'NO', 'Nivel': -1, 'Padre': None},\n",
              " 'C': {'Visitado': 'NO', 'Nivel': -1, 'Padre': None},\n",
              " 'D': {'Visitado': 'NO', 'Nivel': -1, 'Padre': None},\n",
              " 'E': {'Visitado': 'NO', 'Nivel': -1, 'Padre': None},\n",
              " 'F': {'Visitado': 'NO', 'Nivel': -1, 'Padre': None},\n",
              " 'G': {'Visitado': 'NO', 'Nivel': -1, 'Padre': None},\n",
              " 'H': {'Visitado': 'NO', 'Nivel': -1, 'Padre': None},\n",
              " 'I': {'Visitado': 'NO', 'Nivel': -1, 'Padre': None}}"
            ]
          },
          "metadata": {},
          "execution_count": 5
        }
      ],
      "source": [
        "recorrido"
      ]
    },
    {
      "cell_type": "markdown",
      "id": "750f12cf",
      "metadata": {
        "id": "750f12cf"
      },
      "source": [
        "3. Implementación de nuestro algoritmo, haciendo uso de la librería **queue**, para hacer uso de una cola"
      ]
    },
    {
      "cell_type": "code",
      "execution_count": 6,
      "id": "cb842416",
      "metadata": {
        "colab": {
          "base_uri": "https://localhost:8080/"
        },
        "id": "cb842416",
        "outputId": "1fbe5020-1a19-4820-aeaf-c8bec03ce123"
      },
      "outputs": [
        {
          "name": "stdout",
          "output_type": "stream",
          "text": [
            "Ingrese el nodo para inciar el recorrido: \n",
            "NoneA\n"
          ]
        }
      ],
      "source": [
        "from queue import Queue\n",
        "n = input(print(\"Ingrese el nodo para inciar el recorrido: \"))\n",
        "recorrido[n][\"Visitado\"]= \"SI\"\n",
        "recorrido[n][\"Nivel\"] += 1\n",
        "\n",
        "cola = Queue()\n",
        "cola.put(n)\n",
        "while not cola.empty():\n",
        "    nodo_sig = cola.get()\n",
        "    recorrido_anchura.append(nodo_sig)\n",
        "    for v in lista_adyacencia[nodo_sig]:\n",
        "        if recorrido[v][\"Visitado\"] == \"NO\":\n",
        "            recorrido[v][\"Visitado\"] = \"SI\"\n",
        "            recorrido[v][\"Padre\"]= nodo_sig\n",
        "            recorrido[v][\"Nivel\"] = recorrido[nodo_sig][\"Nivel\"] +1\n",
        "            cola.put(v)\n",
        "\n",
        ""
      ]
    },
    {
      "cell_type": "markdown",
      "id": "c12a0b03",
      "metadata": {
        "id": "c12a0b03"
      },
      "source": [
        "4. Estado de nuestro diccionario de recorrido, después de finalizar el proceso"
      ]
    },
    {
      "cell_type": "code",
      "execution_count": 7,
      "id": "01a08ab9",
      "metadata": {
        "colab": {
          "base_uri": "https://localhost:8080/"
        },
        "id": "01a08ab9",
        "outputId": "bb6a836a-7a76-4d8c-fc94-853f8c6a6055"
      },
      "outputs": [
        {
          "output_type": "execute_result",
          "data": {
            "text/plain": [
              "{'A': {'Visitado': 'SI', 'Nivel': 0, 'Padre': None},\n",
              " 'B': {'Visitado': 'SI', 'Nivel': 1, 'Padre': 'A'},\n",
              " 'C': {'Visitado': 'SI', 'Nivel': 4, 'Padre': 'G'},\n",
              " 'D': {'Visitado': 'SI', 'Nivel': 5, 'Padre': 'C'},\n",
              " 'E': {'Visitado': 'SI', 'Nivel': 2, 'Padre': 'I'},\n",
              " 'F': {'Visitado': 'SI', 'Nivel': 2, 'Padre': 'B'},\n",
              " 'G': {'Visitado': 'SI', 'Nivel': 3, 'Padre': 'F'},\n",
              " 'H': {'Visitado': 'SI', 'Nivel': 4, 'Padre': 'G'},\n",
              " 'I': {'Visitado': 'SI', 'Nivel': 1, 'Padre': 'A'}}"
            ]
          },
          "metadata": {},
          "execution_count": 7
        }
      ],
      "source": [
        "recorrido"
      ]
    },
    {
      "cell_type": "markdown",
      "id": "4e917108",
      "metadata": {
        "id": "4e917108"
      },
      "source": [
        "5. Recorrido en anchura a partir del nodo dado"
      ]
    },
    {
      "cell_type": "code",
      "execution_count": 8,
      "id": "fe31060a",
      "metadata": {
        "colab": {
          "base_uri": "https://localhost:8080/"
        },
        "id": "fe31060a",
        "outputId": "5a78cb2f-b45f-462b-8cb0-6b48ca14cc94"
      },
      "outputs": [
        {
          "output_type": "stream",
          "name": "stdout",
          "text": [
            "Recorrido en anchura: A B I F E G C H D\n"
          ]
        }
      ],
      "source": [
        "print(\"Recorrido en anchura:\", \" \".join(recorrido_anchura))"
      ]
    },
    {
      "cell_type": "markdown",
      "id": "ac02e506",
      "metadata": {
        "id": "ac02e506"
      },
      "source": [
        "## Recorrido en profundidad: Recursividad\n"
      ]
    },
    {
      "cell_type": "markdown",
      "id": "26a8330e",
      "metadata": {
        "id": "26a8330e"
      },
      "source": [
        "1. Para el recorrido en profundidad, haremos uso de una función, de la cual recibirá 3 parametros, los cuales son:\n",
        "- **l_adyacencia:** sera un diccionario dado la cual representara la lista de adyacencia el grafo\n",
        "- **nodo_inicio:** el nodo del que se partira para poder iniciar el recorrid\n",
        "- **recorrido:** Sera una lista en donde se iran almacenando los nodos del recorrido"
      ]
    },
    {
      "cell_type": "code",
      "execution_count": 9,
      "id": "280a9824",
      "metadata": {
        "colab": {
          "base_uri": "https://localhost:8080/"
        },
        "id": "280a9824",
        "outputId": "95dd3513-39dc-41df-a806-153c745690ba"
      },
      "outputs": [
        {
          "output_type": "stream",
          "name": "stdout",
          "text": [
            "Recorrido en profundidad:  A B F E I G C D H\n"
          ]
        }
      ],
      "source": [
        "#Funcion del recorrido en profundidad de un grafo\n",
        "def r_profundidad(l_adyacencia, nodo_inicio, recorrido = []):\n",
        "    #Este if verificara si el nodo se encuentra en el recorrido o no\n",
        "  if nodo_inicio not in recorrido:\n",
        "    #uso de la funcion append para agregar el nodo al arreglo del recorrido\n",
        "    recorrido.append(nodo_inicio)\n",
        "    #Condicional para finalizar un camino y retroceder un vivel en caso de que no haya nodos adyecientes al hacer uso de la recursividad\n",
        "    if nodo_inicio not in l_adyacencia:\n",
        "        return recorrido\n",
        "    #ciclo for para recorrer nodos adyacentes haciendo uso de la lista de adyacencia dada\n",
        "    for n_adyacente in l_adyacencia[nodo_inicio]:\n",
        "        #uso de la recursividad para usar como instancia la funcion r_profundidad y reutilizarla\n",
        "        recorrido = r_profundidad(l_adyacencia, n_adyacente, recorrido)\n",
        "\n",
        "    #regresa el arreglo del recorrido en profundidad\n",
        "  return recorrido\n",
        "\n",
        "rec = r_profundidad(lista_adyacencia, \"A\")\n",
        "print(\"Recorrido en profundidad: \", \" \".join(rec))"
      ]
    }
  ],
  "metadata": {
    "kernelspec": {
      "display_name": "Python 3 (ipykernel)",
      "language": "python",
      "name": "python3"
    },
    "language_info": {
      "codemirror_mode": {
        "name": "ipython",
        "version": 3
      },
      "file_extension": ".py",
      "mimetype": "text/x-python",
      "name": "python",
      "nbconvert_exporter": "python",
      "pygments_lexer": "ipython3",
      "version": "3.8.10"
    },
    "colab": {
      "provenance": [],
      "include_colab_link": true
    }
  },
  "nbformat": 4,
  "nbformat_minor": 5
}